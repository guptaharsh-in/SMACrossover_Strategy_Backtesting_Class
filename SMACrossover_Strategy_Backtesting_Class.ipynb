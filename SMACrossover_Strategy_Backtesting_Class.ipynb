{
  "cells": [
    {
      "cell_type": "markdown",
      "metadata": {
        "id": "view-in-github",
        "colab_type": "text"
      },
      "source": [
        "<a href=\"https://colab.research.google.com/github/guptaharsh-in/SMACrossover_Strategy_Backtesting_Class/blob/main/SMACrossover_Strategy_Backtesting_Class.ipynb\" target=\"_parent\"><img src=\"https://colab.research.google.com/assets/colab-badge.svg\" alt=\"Open In Colab\"/></a>"
      ]
    },
    {
      "cell_type": "code",
      "source": [
        "# Install library nsepy if necessary\n",
        "#pip install nsepy"
      ],
      "metadata": {
        "id": "AJGXCa-wOkGh"
      },
      "execution_count": null,
      "outputs": []
    },
    {
      "cell_type": "code",
      "source": [
        "# Import Libraries\n",
        "import pandas as pd\n",
        "import numpy as np\n",
        "import matplotlib.pyplot as plt\n",
        "import nsepy as nse\n",
        "from datetime import date"
      ],
      "metadata": {
        "id": "BdqTRusEOWXD"
      },
      "execution_count": null,
      "outputs": []
    },
    {
      "cell_type": "code",
      "source": [
        "# Create SMACrossover Class\n",
        "class SMACrossover():\n",
        "  def __init__(self, symbol,SMA_S, SMA_L, start, end, index):\n",
        "    self.symbol = symbol\n",
        "    self.SMA_S= SMA_S\n",
        "    self.SMA_L= SMA_L\n",
        "    self.start=start\n",
        "    self.end=end\n",
        "    self.index=index\n",
        "    self.result= None\n",
        "    self.get_data()\n",
        "\n",
        "# Create Get Data Function \n",
        "\n",
        "  def get_data(self):\n",
        "    df = nse.get_history(self.symbol,start=self.start,end=self.end,index=self.index)\n",
        "    data= df.Close.to_frame()\n",
        "\n",
        "#Calcutate Log Returns and Simple Moving Averages (Short and Long)\n",
        "    data[\"returns\"] = np.log(data.Close.div(data.Close.shift(1)))\n",
        "    data[\"SMA_S\"] = data.Close.rolling(self.SMA_S).mean()\n",
        "    data[\"SMA_L\"] = data.Close.rolling(self.SMA_L).mean()\n",
        "    data.dropna(inplace=True)\n",
        "    self.data2 =data\n",
        "\n",
        "    return data\n",
        "\n",
        "# Create Test Results Function\n",
        "  def test_results(self):\n",
        "    data=self.data2.copy().dropna()\n",
        "\n",
        "#Calcutate Buy and Hold Returns and Drawdown Columns\n",
        "    data[\"cumret\"] = data.returns.cumsum().apply(np.exp)\n",
        "    data[\"cummax\"] = data.cumret.cummax()\n",
        "    data['drawdownperc'] = (data['cummax'] - data['cumret'])/(data['cummax'])\n",
        "    data.dropna(inplace=True)\n",
        "\n",
        "#Calcutate Strategy Returns and Drawdown Columns\n",
        "    data[\"position\"] = np.where(data[\"SMA_S\"]>data[\"SMA_L\"],1,-1)\n",
        "    data[\"strategy\"] = data[\"returns\"]*data.position.shift(1)\n",
        "    data[\"cumret_str\"] = data.strategy.cumsum().apply(np.exp)\n",
        "    data[\"cummax_str\"] = data.cumret_str.cummax()\n",
        "    data['drawdownperc_str'] = (data['cummax_str'] - data['cumret_str'])/(data['cummax_str'])\n",
        "    data.dropna(inplace=True)\n",
        "    \n",
        "#Calcutate Strategy Returns and Drawdown\n",
        "    ret = np.exp(data[\"strategy\"].sum())\n",
        "    std = data[\"strategy\"].std()*np.sqrt(252)\n",
        "    draw_str = data.drawdownperc_str.max()\n",
        "    drawdate_str = data.drawdownperc_str.idxmax()\n",
        "  \n",
        "#Calcutate Buy and Hold Returns and Drawdown\n",
        "    retbnh = np.exp(data[\"returns\"].sum())\n",
        "    stdbnh = data[\"returns\"].std()*np.sqrt(252)\n",
        "    drawbnh = data.drawdownperc.max()\n",
        "    drawdatebnh = data.drawdownperc.idxmax()\n",
        "\n",
        "#Calcutate Performance and Outperformance\n",
        "    perf = data[\"cumret_str\"].iloc[-1]\n",
        "    outperf = perf - data[\"cumret\"].iloc[-1]\n",
        "    self.results=data\n",
        "\n",
        "#Return Results\n",
        "    return print(f\"Performance = {perf},\\nOutperformance = {outperf},\\n\\nStrategy Return={ret},\\nStrategy Risk={std},\\nMax Drawdown Strategy={draw_str},\\nMax Drawdown Date Strategy={drawdate_str}\\n\\nBuyandHold Return={retbnh},\\nBuyandHold Risk={stdbnh},\\nMax Drawdown BuyandHold={drawbnh},\\nMax Drawdown Date BuyandHold={drawdatebnh}\")\n",
        "\n",
        "\n",
        "#Create Plot Results Function\n",
        "  def plot_results(self):\n",
        "    title= f\"Symbol:{self.symbol} | SMA_S:{self.SMA_S} | SMA_L:{self.SMA_L}\"\n",
        "    self.results[[\"cumret\",\"cumret_str\",\"position\"]].plot(title=title, figsize= (12,8), xlabel= \"Date\", ylabel = \"Returns\")\n",
        "    self.results[[\"Close\", \"SMA_S\",\"SMA_L\"]].plot(title=title, figsize= (12,8),xlabel= \"Date\", ylabel = \"Price\")\n",
        "    "
      ],
      "metadata": {
        "id": "WCdNcIJ2ONws"
      },
      "execution_count": null,
      "outputs": []
    },
    {
      "cell_type": "code",
      "source": [
        "#Load Data Syntax Example\n",
        "#test = SMACrossover(\"NIFTY\", 50, 200, date(2020,1,1), date(2023,1,1), True)"
      ],
      "metadata": {
        "id": "7fJ6V7_-eS8W"
      },
      "execution_count": null,
      "outputs": []
    },
    {
      "cell_type": "code",
      "source": [
        "#Test and Plot Results Syntax\n",
        "#test.test_results()\n",
        "#test.plot_results()"
      ],
      "metadata": {
        "id": "Z1Of3mWHfMuC"
      },
      "execution_count": null,
      "outputs": []
    }
  ],
  "metadata": {
    "colab": {
      "provenance": [],
      "authorship_tag": "ABX9TyMdXegAy2sR4C9p+7jrW+ml",
      "include_colab_link": true
    },
    "kernelspec": {
      "display_name": "Python 3",
      "name": "python3"
    },
    "language_info": {
      "name": "python"
    }
  },
  "nbformat": 4,
  "nbformat_minor": 0
}